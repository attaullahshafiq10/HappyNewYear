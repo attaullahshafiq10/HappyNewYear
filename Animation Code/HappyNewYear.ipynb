{
 "cells": [
  {
   "cell_type": "code",
   "execution_count": 2,
   "metadata": {},
   "outputs": [
    {
     "name": "stdout",
     "output_type": "stream",
     "text": [
      "5\n",
      "4\n",
      "3\n",
      "2\n",
      "1\n",
      "v^v^v^v^v^v^v^v^v^v^v^v^v^v^v\n",
      "<                           >\n",
      ">      Happy New Year!      <\n",
      "<                           >\n",
      "v^v^v^v^v^v^v^v^v^v^v^v^v^v^v\n"
     ]
    }
   ],
   "source": [
    "#Happy New Year Animation\n",
    "#Attaullah Shafiq\n",
    "import os\n",
    "import time\n",
    "\n",
    "#Initialise settings\n",
    "start=5\n",
    "message=\">      Happy New Year!      <\"\n",
    "\n",
    "#Start the countdown\n",
    "for counter in range(start,0,-1):\n",
    "    print(counter)\n",
    "    time.sleep(1)\n",
    "    os.system('clear')  \n",
    "\n",
    "#Display the message  \n",
    "print(\"v^v^v^v^v^v^v^v^v^v^v^v^v^v^v\")\n",
    "print(\"<                           >\")\n",
    "print(message)\n",
    "print(\"<                           >\")\n",
    "print(\"v^v^v^v^v^v^v^v^v^v^v^v^v^v^v\")"
   ]
  },
  {
   "cell_type": "code",
   "execution_count": null,
   "metadata": {},
   "outputs": [],
   "source": []
  }
 ],
 "metadata": {
  "kernelspec": {
   "display_name": "Python 3",
   "language": "python",
   "name": "python3"
  },
  "language_info": {
   "codemirror_mode": {
    "name": "ipython",
    "version": 3
   },
   "file_extension": ".py",
   "mimetype": "text/x-python",
   "name": "python",
   "nbconvert_exporter": "python",
   "pygments_lexer": "ipython3",
   "version": "3.8.5"
  }
 },
 "nbformat": 4,
 "nbformat_minor": 4
}
